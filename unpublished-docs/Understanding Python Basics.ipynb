{
 "cells": [
  {
   "cell_type": "markdown",
   "metadata": {},
   "source": [
    "# Understanding Python\n",
    "Here I am listing my understandings in python for Data Science Stuff.\n",
    "\n",
    "Python is a high level, interpretable language.\n",
    "\n",
    "Build in keywords at a glance:\n",
    "- `in` operator, returns boolean, can be used to find an object in list. For eg, char in string.\n",
    "- `True` and `False` are constants to hold boolean values.\n",
    "- `not and or` used for boolean operations.\n",
    "- `if elif else` conditional statements.\n",
    "- `map lambda apply`\n",
    "- `for range break continue while with` iterating words.\n",
    "- `file open quit`\n",
    "- `try catch raise`\n",
    "\n",
    "> We can use `else` with `for`. like for this do this else this.\n",
    "\n",
    "**Data Types**\n",
    "- `str` string class, has many string methods, alos converts other data type to sting.\n",
    "- `int` integer data type class, also converts variable passed to integer.\n",
    "- `float` float class, has functions to work on decimal numbers.\n",
    "- `chr` converts integer to string.\n",
    "- `bool` boolean class, converts to boolean.\n",
    "\n",
    "**Data Structures**\n",
    "- `list` class for DS list or array. has many functions related to list operations.\n",
    "- `dict` class for DS dictionaries, has functions like .keys, .values etc.\n",
    "- `tuple` class for DS tuple, has function index and count.Value cannot be changed\n",
    "- `set`class for DS set. Has unique values. Defined in {}.\n",
    "\n",
    "**Functions**\n",
    "- `def` to define a new function. def my_func(a=5, \\*numbers, \\**keywords):\n",
    "- `type` method, returns string, type of a variable.\n",
    "- `len` method, returns int, length of object passed. For eg, `len(s1)` length of string\n",
    "- `max` and `min` works on list, string etc.\n",
    "- `sum` adds numbers in list.\n",
    "- `sorted` sorts any list using a key. default is alpanum.\n",
    "- `file` is a class for file operations. Obejct created when we open.\n",
    "\n"
   ]
  },
  {
   "cell_type": "code",
   "execution_count": 1,
   "metadata": {},
   "outputs": [
    {
     "name": "stdout",
     "output_type": "stream",
     "text": [
      "%history\n"
     ]
    }
   ],
   "source": [
    "%history \n",
    "# Gives history of commands run in notebook"
   ]
  },
  {
   "cell_type": "markdown",
   "metadata": {},
   "source": [
    "**Run external commands**\n",
    "\n",
    "% can be used to run linux commands from notebook. It is called magic commands. For eg, `%mkdir, %ls, %pwd` etc."
   ]
  },
  {
   "cell_type": "code",
   "execution_count": 3,
   "metadata": {},
   "outputs": [
    {
     "name": "stdout",
     "output_type": "stream",
     "text": [
      "Life has Strength..!\n"
     ]
    }
   ],
   "source": [
    "%run '~/code/py/life.py'"
   ]
  },
  {
   "cell_type": "markdown",
   "metadata": {},
   "source": [
    "**Variables and Data Structures**\n",
    "- Built-in data types:\n",
    "    - Integer, Floating point, String, Boolean Values, Date and Time\n",
    "- Additional data structures:\n",
    "    - Tuples\n",
    "    - Lists\n",
    "    - Dictionary\n",
    "    - Sets\n"
   ]
  },
  {
   "cell_type": "markdown",
   "metadata": {},
   "source": [
    "**Strings**\n",
    "- A built in class `str` has many string related functions.\n",
    "- String can be sliced using [:] operator. Starts from 0 and -1 from end. Also works in list or array.\n",
    "- Operator `+` for concatenation and `*` for repetition.\n",
    "- We can call `str.function(my_string)` or `my_string.function(args)`\n",
    "- `len(s1)` length of string\n",
    "- `in` operator can be used to find an object in list, char in string.\n",
    "\n",
    "**Note:** See example below.\n"
   ]
  },
  {
   "cell_type": "code",
   "execution_count": 116,
   "metadata": {},
   "outputs": [
    {
     "name": "stdout",
     "output_type": "stream",
     "text": [
      "h\n",
      "Vaib\n",
      "a\n",
      "Vaibh\n",
      "7\n",
      "['V', 'a', 'i', 'b', 'h', 'a', 'v']\n"
     ]
    },
    {
     "data": {
      "text/plain": [
       "'2.00 % this as fraction, and string 1 and value INR4'"
      ]
     },
     "execution_count": 116,
     "metadata": {},
     "output_type": "execute_result"
    }
   ],
   "source": [
    "s1 = 'Vaibhav'\n",
    "print (s1[4])   # prints char at 4th index\n",
    "print (s1[:4])  # prints chars before 4th index, 4th index excluded.\n",
    "\n",
    "# Same for -ve index\n",
    "print (s1[-2])   # prints char at 2nd last index\n",
    "print (s1[:-2])  # prints chars before 2nd last index, 2nd last index excluded.\n",
    "\n",
    "print ( len(s1) ) # prints length, number of characters in string.\n",
    "\n",
    "str.upper(s1)    # same as below \n",
    "s1.upper()       # same as above\n",
    "\n",
    "strList = list(s1) # converts to list data type, array of each char in string\n",
    "print (strList)\n",
    "\n",
    "# Formatting\n",
    "myFormat = '%.2f %% this as fraction, and string %s and value INR%d'\n",
    "myFormat %(2,1,4.8) # takes 3 args, convers and prints as per definition."
   ]
  },
  {
   "cell_type": "code",
   "execution_count": 128,
   "metadata": {},
   "outputs": [
    {
     "data": {
      "text/plain": [
       "True"
      ]
     },
     "execution_count": 128,
     "metadata": {},
     "output_type": "execute_result"
    }
   ],
   "source": [
    "# find in string\n",
    "'bh' in s1"
   ]
  },
  {
   "cell_type": "code",
   "execution_count": 136,
   "metadata": {},
   "outputs": [
    {
     "data": {
      "text/plain": [
       "float"
      ]
     },
     "execution_count": 136,
     "metadata": {},
     "output_type": "execute_result"
    }
   ],
   "source": [
    "type(float('23'))"
   ]
  },
  {
   "cell_type": "markdown",
   "metadata": {},
   "source": [
    "**Lists**\n",
    "- List is a built in data structure.\n",
    "- They can hold list of any object.\n",
    "- Can have mixed data types.\n",
    "- Can hold list in list.\n",
    "- declared in [], separated by ,\n",
    "- it is similar to array, index works from 0 and -1 from end\n",
    "- \\* to repeat, + to concatenate, it combines lists to single list.\n",
    "- has functions like, append, pop, remove, index etc."
   ]
  },
  {
   "cell_type": "code",
   "execution_count": 149,
   "metadata": {},
   "outputs": [
    {
     "name": "stdout",
     "output_type": "stream",
     "text": [
      "['amit', 'pranav', 'ramesh', 123, 22.4, 5]\n",
      "[5, 22.4, 123, 'ramesh', 'pranav', 'amit']\n",
      "[5, 22.4, 123, 'amit', 'pranav', 'ramesh']\n"
     ]
    }
   ],
   "source": [
    "a_list = ['amit', 'pranav', 'ramesh', 123, 22.4]\n",
    "a_list.append(5)\n",
    "print a_list\n",
    "\n",
    "a_list.reverse() # reverses in place, returns nothing\n",
    "print a_list\n",
    "\n",
    "a_list.sort()\n",
    "print (a_list)\n"
   ]
  },
  {
   "cell_type": "code",
   "execution_count": 160,
   "metadata": {},
   "outputs": [
    {
     "data": {
      "text/plain": [
       "[' ', ' ', '4', 'W', 'd', 'e', 'h', 'l', 'l', 'l', 'o', 'o', 'r']"
      ]
     },
     "execution_count": 160,
     "metadata": {},
     "output_type": "execute_result"
    }
   ],
   "source": [
    "sorted('hello World 4')"
   ]
  },
  {
   "cell_type": "markdown",
   "metadata": {},
   "source": [
    "**Dictionary**\n",
    "- A built in data structure\n",
    "- Consists of key-value pair\n",
    "- Key can be anything but mostly num or string\n",
    "- values can be any object\n",
    "- declared using {} and :\n",
    "- accessed using key in []"
   ]
  },
  {
   "cell_type": "code",
   "execution_count": 177,
   "metadata": {},
   "outputs": [
    {
     "name": "stdout",
     "output_type": "stream",
     "text": [
      "<type 'dict'>\n",
      "<type 'list'>\n",
      "<type 'tuple'>\n",
      "<type 'str'>\n"
     ]
    }
   ],
   "source": [
    "my_dict = {\n",
    "    'k1': 'value1',\n",
    "    'k2': 'value2',\n",
    "    'k3': 'value3'\n",
    "}\n",
    "my_dict.items() # returns list of tuples\n",
    "\n",
    "print type(my_dict)\n",
    "print type(my_dict.items())\n",
    "print type(my_dict.items()[0])\n",
    "print type(my_dict.items()[0][1])"
   ]
  },
  {
   "cell_type": "code",
   "execution_count": 188,
   "metadata": {},
   "outputs": [
    {
     "data": {
      "text/plain": [
       "['value3', 'value2', 'value1']"
      ]
     },
     "execution_count": 188,
     "metadata": {},
     "output_type": "execute_result"
    }
   ],
   "source": [
    "sorted(my_dict.values(), reverse=True)"
   ]
  },
  {
   "cell_type": "code",
   "execution_count": 204,
   "metadata": {},
   "outputs": [
    {
     "data": {
      "text/plain": [
       "True"
      ]
     },
     "execution_count": 204,
     "metadata": {},
     "output_type": "execute_result"
    }
   ],
   "source": [
    "bool(1.2)"
   ]
  },
  {
   "cell_type": "code",
   "execution_count": 208,
   "metadata": {},
   "outputs": [
    {
     "data": {
      "text/plain": [
       "10000"
      ]
     },
     "execution_count": 208,
     "metadata": {},
     "output_type": "execute_result"
    }
   ],
   "source": [
    "x**4"
   ]
  },
  {
   "cell_type": "code",
   "execution_count": 212,
   "metadata": {},
   "outputs": [
    {
     "data": {
      "text/plain": [
       "True"
      ]
     },
     "execution_count": 212,
     "metadata": {},
     "output_type": "execute_result"
    }
   ],
   "source": [
    "True and not False"
   ]
  },
  {
   "cell_type": "code",
   "execution_count": 220,
   "metadata": {},
   "outputs": [
    {
     "data": {
      "text/plain": [
       "str"
      ]
     },
     "execution_count": 220,
     "metadata": {},
     "output_type": "execute_result"
    }
   ],
   "source": [
    "type(chr(97) )"
   ]
  },
  {
   "cell_type": "code",
   "execution_count": 228,
   "metadata": {},
   "outputs": [
    {
     "data": {
      "text/plain": [
       "45"
      ]
     },
     "execution_count": 228,
     "metadata": {},
     "output_type": "execute_result"
    }
   ],
   "source": [
    "sum(range(0,10)) # last, 10, is not included"
   ]
  },
  {
   "cell_type": "markdown",
   "metadata": {},
   "source": [
    "**File Operations**\n",
    "- `open` pass filename and mode to open file."
   ]
  },
  {
   "cell_type": "code",
   "execution_count": 231,
   "metadata": {},
   "outputs": [
    {
     "name": "stdout",
     "output_type": "stream",
     "text": [
      "Industry Name,Number of firms,ROE\r\n",
      "\n",
      "Advertising,65,16.51%\r\n",
      "\n",
      "Aerospace/Defense,95,21.60%\r\n",
      "\n",
      "Air Transport,25,42.68%\r\n",
      "\n",
      "Apparel,70,17.87%\r\n",
      "\n",
      "Auto & Truck,26,22.05%\r\n",
      "\n",
      "Auto Parts,75,17.54%\r\n",
      "\n",
      "Bank,7,15.03%\r\n",
      "\n",
      "Banks (Regional),721,9.52%\r\n",
      "\n",
      "Beverage ,47,27.62%\r\n",
      "\n",
      "Beverage (Alcoholic),19,18.28%\r\n",
      "\n",
      "Biotechnology,349,6.77%\r\n",
      "\n",
      "Broadcasting,30,74.10%\r\n",
      "\n",
      "Brokerage & Investment Banking,49,9.25%\r\n",
      "\n",
      "Building Materials,37,6.78%\r\n",
      "\n",
      "Business & Consumer Services,179,12.48%\r\n",
      "\n",
      "Cable TV,16,26.62%\r\n",
      "\n",
      "Chemical (Basic),47,8.80%\r\n",
      "\n",
      "Chemical (Diversified),10,24.33%\r\n",
      "\n",
      "Chemical (Specialty),100,22.10%\r\n",
      "\n",
      "Coal & Related Energy,45,-14.66%\r\n",
      "\n",
      "Computer Services,129,39.46%\r\n",
      "\n",
      "Computer Software,273,21.53%\r\n",
      "\n",
      "Computers/Peripherals,66,24.55%\r\n",
      "\n",
      "Construction,18,3.62%\r\n",
      "\n",
      "Diversified,20,13.06%\r\n",
      "\n",
      "Educational Services,40,-0.13%\r\n",
      "\n",
      "Electrical Equipment,135,13.67%\r\n",
      "\n",
      "Electronics,191,7.98%\r\n",
      "\n",
      "Electronics (Consumer & Office),26,25.66%\r\n",
      "\n",
      "Engineering,56,7.61%\r\n",
      "\n",
      "Entertainment,85,17.45%\r\n",
      "\n",
      "Environmental & Waste Services,108,8.28%\r\n",
      "\n",
      "Farming/Agriculture,29,4.82%\r\n",
      "\n",
      "Financial Svcs.,76,15.50%\r\n",
      "\n",
      "Financial Svcs. (Non-bank & Insurance),17,6.45%\r\n",
      "\n",
      "Food Processing,97,15.94%\r\n",
      "\n",
      "Food Wholesalers,18,17.74%\r\n",
      "\n",
      "Furn/Home Furnishings,36,12.99%\r\n",
      "\n",
      "Healthcare Equipment,193,11.87%\r\n",
      "\n",
      "Healthcare Facilities,47,26.29%\r\n",
      "\n",
      "Healthcare Products,58,5.52%\r\n",
      "\n",
      "Healthcare Services,126,13.14%\r\n",
      "\n",
      "Heathcare Information and Technology,125,9.45%\r\n",
      "\n",
      "Heavy Construction,46,22.00%\r\n",
      "\n",
      "Homebuilding,32,32.64%\r\n",
      "\n",
      "Hotel/Gaming,89,4.50%\r\n",
      "\n",
      "Household Products,139,21.68%\r\n",
      "\n",
      "Information Services,71,22.24%\r\n",
      "\n",
      "Insurance (General),26,4.08%\r\n",
      "\n",
      "Insurance (Life),27,6.08%\r\n",
      "\n",
      "Insurance (Prop/Cas.),53,14.34%\r\n",
      "\n",
      "Internet software and services,330,11.75%\r\n",
      "\n",
      "Investment Co.,65,9.68%\r\n",
      "\n",
      "Machinery,141,15.70%\r\n",
      "\n",
      "Metals & Mining,134,6.26%\r\n",
      "\n",
      "Office Equipment & Services,30,19.42%\r\n",
      "\n",
      "Oil/Gas (Integrated),8,18.31%\r\n",
      "\n",
      "Oil/Gas (Production and Exploration),411,6.74%\r\n",
      "\n",
      "Oil/Gas Distribution,80,12.66%\r\n",
      "\n",
      "Oilfield Svcs/Equip.,163,13.18%\r\n",
      "\n",
      "Packaging & Container,24,15.61%\r\n",
      "\n",
      "Paper/Forest Products,21,15.98%\r\n",
      "\n",
      "Pharma & Drugs,138,19.71%\r\n",
      "\n",
      "Power,106,8.70%\r\n",
      "\n",
      "Precious Metals,166,-8.92%\r\n",
      "\n",
      "Publshing & Newspapers,52,7.05%\r\n",
      "\n",
      "R.E.I.T.,46,12.55%\r\n",
      "\n",
      "Railroad,10,19.85%\r\n",
      "\n",
      "Real Estate (Development),22,-4.29%\r\n",
      "\n",
      "Real Estate (General/Diversified),11,1.02%\r\n",
      "\n",
      "Real Estate (Operations & Services),47,19.84%\r\n",
      "\n",
      "Recreation,70,18.03%\r\n",
      "\n",
      "Reinsurance,3,6.05%\r\n",
      "\n",
      "Restaurant,84,27.46%\r\n",
      "\n",
      "Retail (Automotive),30,30.79%\r\n",
      "\n",
      "Retail (Building Supply),7,23.12%\r\n",
      "\n",
      "Retail (Distributors),87,12.92%\r\n",
      "\n",
      "Retail (General),21,17.68%\r\n",
      "\n",
      "Retail (Grocery and Food),21,10.91%\r\n",
      "\n",
      "Retail (Internet),47,18.36%\r\n",
      "\n",
      "Retail (Special Lines),137,17.29%\r\n",
      "\n",
      "Rubber& Tires,4,45.41%\r\n",
      "\n",
      "Semiconductor,104,13.14%\r\n",
      "\n",
      "Semiconductor Equip,51,-1.21%\r\n",
      "\n",
      "Shipbuilding & Marine,14,0.37%\r\n",
      "\n",
      "Shoe,14,24.27%\r\n",
      "\n",
      "Steel,37,-6.67%\r\n",
      "\n",
      "Telecom (Wireless),28,-15.63%\r\n",
      "\n",
      "Telecom. Equipment,131,15.67%\r\n",
      "\n",
      "Telecom. Services,82,5.78%\r\n",
      "\n",
      "Thrift,223,-79.47%\r\n",
      "\n",
      "Tobacco,12,214.71%\r\n",
      "\n",
      "Transportation,22,14.75%\r\n",
      "\n",
      "Trucking,28,16.01%\r\n",
      "\n",
      "Utility (General),20,7.34%\r\n",
      "\n",
      "Utility (Water),20,9.95%\r\n",
      "\n",
      "Total Market,7766,15.68%\r\n",
      "\n"
     ]
    }
   ],
   "source": [
    "handle = open('./roedata.csv', 'r')\n",
    "for line in handle:\n",
    "    print (line)\n",
    "handle.close()"
   ]
  },
  {
   "cell_type": "code",
   "execution_count": 232,
   "metadata": {},
   "outputs": [
    {
     "data": {
      "text/plain": [
       "file"
      ]
     },
     "execution_count": 232,
     "metadata": {},
     "output_type": "execute_result"
    }
   ],
   "source": [
    "type(handle)"
   ]
  },
  {
   "cell_type": "code",
   "execution_count": 233,
   "metadata": {},
   "outputs": [
    {
     "data": {
      "text/plain": [
       "'./roedata.csv'"
      ]
     },
     "execution_count": 233,
     "metadata": {},
     "output_type": "execute_result"
    }
   ],
   "source": [
    "handle.name"
   ]
  },
  {
   "cell_type": "code",
   "execution_count": 234,
   "metadata": {},
   "outputs": [
    {
     "data": {
      "text/plain": [
       "'r'"
      ]
     },
     "execution_count": 234,
     "metadata": {},
     "output_type": "execute_result"
    }
   ],
   "source": [
    "handle.mode"
   ]
  },
  {
   "cell_type": "code",
   "execution_count": 238,
   "metadata": {},
   "outputs": [],
   "source": [
    "new_file = open('new.txt', 'w')"
   ]
  },
  {
   "cell_type": "code",
   "execution_count": 239,
   "metadata": {
    "collapsed": true
   },
   "outputs": [],
   "source": [
    "new_file.write('some text')"
   ]
  },
  {
   "cell_type": "code",
   "execution_count": 240,
   "metadata": {
    "collapsed": true
   },
   "outputs": [],
   "source": [
    "new_file.close()"
   ]
  },
  {
   "cell_type": "code",
   "execution_count": 241,
   "metadata": {},
   "outputs": [
    {
     "name": "stdout",
     "output_type": "stream",
     "text": [
      "some text"
     ]
    }
   ],
   "source": [
    "%cat new.txt"
   ]
  },
  {
   "cell_type": "code",
   "execution_count": null,
   "metadata": {
    "collapsed": true
   },
   "outputs": [],
   "source": []
  }
 ],
 "metadata": {
  "kernelspec": {
   "display_name": "Python 2",
   "language": "python",
   "name": "python2"
  },
  "language_info": {
   "codemirror_mode": {
    "name": "ipython",
    "version": 2
   },
   "file_extension": ".py",
   "mimetype": "text/x-python",
   "name": "python",
   "nbconvert_exporter": "python",
   "pygments_lexer": "ipython2",
   "version": "2.7.15"
  }
 },
 "nbformat": 4,
 "nbformat_minor": 2
}
