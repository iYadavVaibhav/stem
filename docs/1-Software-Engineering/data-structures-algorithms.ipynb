{
 "cells": [
  {
   "cell_type": "markdown",
   "metadata": {},
   "source": [
    "# Data Structures and Algorithms\n",
    "\n",
    "Recursion\n",
    "\n",
    "- Break big problem into smaller problem that are same and solve the smallest one, and built on top of it.\n",
    "\n",
    "Sorting Algorithms\n",
    "\n",
    "- insertion\n",
    "- merge\n",
    "- quick sort\n",
    "- understanding which to use depends on the data and how sorted it is in different scenarios\n",
    "\n",
    "Searching Algorithms\n",
    "\n",
    "- Binary\n",
    "- Breadth first\n",
    "- Depth first\n",
    "\n",
    "- Use bradth-first search, when finding shortest path between two nodes in a tree\n",
    "- Don't use it on tree having high branching factor.\n"
   ]
  },
  {
   "cell_type": "markdown",
   "metadata": {},
   "source": [
    "\n",
    "## DSA Overview\n",
    "\n",
    "- **Why is DSA important?**\n",
    "  - In every problem there is a budget, which defines time and money. Hence, it is important to understand the **cost of memory** and **time of execution**.\n",
    "\n",
    "- **Edge Cases**\n",
    "  - extreme cases of input or situation\n",
    "  - like: empty array, bad format\n",
    "\n",
    "- **Steps to solve a problem using DSA**\n",
    "  1. state problem clearly\n",
    "  2. define inputs and outputs and their formats\n",
    "  3. state test cases and edge cases in english\n",
    "  4. state correct solution in english\n",
    "  5. code and test\n",
    "  6. repeat 2-5\n",
    "  7. analyze algo's complexity or inefficiency\n",
    "  8. refactor code, test. repeat 2-8\n",
    "\n",
    "- **Best Practices in Coding using DSA**\n",
    "  - create a function\n",
    "  - give meaningful name and follow standards\n",
    "  - do test driven development\n",
    "  - 10 mins code built test repeat, small steps\n",
    "  - abstract code into functions and make them generic. eg, repetitive logic can be moved to a separate function and used in changing condition function. as in binary-search logic is same but matching condition may vary, so make a generic binary-search function and use it in other functions.\n",
    "  - The solving approach and coding both are important, **approach & right technique** is more important that coding\n",
    "  - don't start coding directly, rather write clearly the problem statement and then solution in **plain english**, then code.\n",
    "- linear search algorithm or brute force algorithm\n",
    "  - simple, start from 0 and traverse whole array\n",
    "\n",
    "- **Time calculation of code execution**\n",
    "  - `1Ghz` machine can execute `10^9` **instructions** in 1 second (giga = 9). Instructions are low level binary code. so a high level **python statement** can execute tens or thousands of instructions, but that's how you calculate execution time of once statement, and the **set of statements** in function and then number **iterations** of that function in worst case gives its complexity.\n",
    "  - `iterations --of--> function of statements --having--> statement --build_of--> instructions --processed_on--> CPU`\n",
    "\n",
    "- **Analyze complexity and find inefficiency**\n",
    "  - can you **reduce the number of iterations** in the loop? eg, use binary search instead of linear search on a sorted array.\n",
    "  - complexity of algo is the **max time** it will take to finish, that is total time in **worst case**. it is usually based on the size of array `n`\n",
    "  - **O(n)** or **Big O Notation** or 'Order of n' means that a code-block is executed `n` number of times at max.\n",
    "  - **O(log n)** means that code will iterate `log n` times.\n"
   ]
  },
  {
   "cell_type": "markdown",
   "metadata": {},
   "source": [
    "## Time Complexity\n",
    "\n",
    "Time Complexity\n",
    "\n",
    "- Amount of time, in worst case scenario, given the length of input.\n",
    "- O(1) simple var access - constant time complexity\n",
    "  - given a list, you do not iterate whole list, instead just access one element. even if list lenght iceases, the time will not increase as your function just prints one element.\n",
    "- O(n) loop over list - linear\n",
    "- O(log n) binary search, where you eliminate half result.\n",
    "- O(n^2), for loop within for loop, you iterate over each list element. - quadratic\n",
    "- O(n log n), O(2^n) and O(n!) (n factorial), not common.\n",
    "- You should know time complexity of solution.\n",
    "- If there are multiple steps, time complexity is worst step, that is what we want to know.\n",
    "\n",
    "- **Big O**\n",
    "  - O represents order of. O(n) means, the time complexity increases as order of n. If n increases the time increases by it.\n",
    "  - if you plot time and n on graph, let's say eq is $t = an + b$, where $a$ and $b$ are constant, then t we see that t increases majorly by $a x n$, which is order of n. hence, `O(n)`. You ignore the co-efficients from the equations.\n",
    "  - For $t = 20$ it is $t = 20 x 1$, hence `O(1)`\n",
    "  - For $t = an^2 + c$, notation is, $O(n^2)$\n",
    "  - Big O does not depend on machine capability, twice fast machine will change coefficient, which is ignored. However, the function complexity will remain the same, that is, constant, linear or quadratic etc irrespective of machine's capability.\n",
    "\n",
    "- Evaluating Big O\n",
    "  - the assignment operation will have complexity constant, of 1 so $O(1)$\n",
    "  - Now, if this is in for loop, it repeats n times, hence time is $n \\times O(1)$ that will be $O(n)$\n",
    "  - Now, if there is another for loop outside this, time taken is $n \\times O(n)$, that will be $O(nn)$ or $O(n^2)$\n",
    "\n",
    "\n",
    "**Comparison** of time complexity with common algo and common orders\n",
    "\n",
    "Algo | Binary Search | Simple Search | Quicksort | Selection Sort | The Traveling Salesman\n",
    "-|-|-|-|-|-\n",
    "Complexity / Size | $O(\\log n)$ | $O(n)$ | $O(n\\log n)$ | $O(n^2)$ | $O(n!)$\n",
    "10 | 0.3s | 1s | 3.3s | 10s | 4.2 days\n",
    "100 | 0.6s | 10s | 66.4s | 16.6m | $2.9 \\times 10^{149}$ yrs\n",
    "1000 | 1s | 100s | 996s | 27.7 hrs | $1.27 \\times 10^{2559}$ yrs\n",
    "\n",
    "- Link - [YK Sugi CS Dojo](https://www.linkedin.com/learning/get-ready-for-your-coding-interview/why-time-complexity-and-big-o-notation-14353025)\n"
   ]
  },
  {
   "cell_type": "code",
   "execution_count": 6,
   "metadata": {},
   "outputs": [
    {
     "data": {
      "application/vnd.plotly.v1+json": {
       "config": {
        "plotlyServerURL": "https://plot.ly"
       },
       "data": [
        {
         "name": "log n",
         "type": "scatter",
         "x": [
          1,
          2,
          3,
          4
         ],
         "xaxis": "x",
         "y": [
          0,
          1,
          1.584962500721156,
          2
         ],
         "yaxis": "y"
        },
        {
         "name": "n",
         "type": "scatter",
         "x": [
          1,
          2,
          3,
          4
         ],
         "xaxis": "x2",
         "y": [
          1,
          2,
          3,
          4
         ],
         "yaxis": "y2"
        },
        {
         "name": "n log n",
         "type": "scatter",
         "x": [
          1,
          2,
          3,
          4
         ],
         "xaxis": "x3",
         "y": [
          0,
          2,
          4.754887502163468,
          8
         ],
         "yaxis": "y3"
        },
        {
         "name": "n<sup>2</sup>",
         "type": "scatter",
         "x": [
          1,
          2,
          3,
          4
         ],
         "xaxis": "x4",
         "y": [
          1,
          4,
          9,
          16
         ],
         "yaxis": "y4"
        },
        {
         "name": "n!",
         "type": "scatter",
         "x": [
          1,
          2,
          3,
          4
         ],
         "xaxis": "x5",
         "y": [
          1,
          2,
          6,
          24
         ],
         "yaxis": "y5"
        }
       ],
       "layout": {
        "height": 300,
        "template": {
         "data": {
          "bar": [
           {
            "error_x": {
             "color": "#2a3f5f"
            },
            "error_y": {
             "color": "#2a3f5f"
            },
            "marker": {
             "line": {
              "color": "#E5ECF6",
              "width": 0.5
             },
             "pattern": {
              "fillmode": "overlay",
              "size": 10,
              "solidity": 0.2
             }
            },
            "type": "bar"
           }
          ],
          "barpolar": [
           {
            "marker": {
             "line": {
              "color": "#E5ECF6",
              "width": 0.5
             },
             "pattern": {
              "fillmode": "overlay",
              "size": 10,
              "solidity": 0.2
             }
            },
            "type": "barpolar"
           }
          ],
          "carpet": [
           {
            "aaxis": {
             "endlinecolor": "#2a3f5f",
             "gridcolor": "white",
             "linecolor": "white",
             "minorgridcolor": "white",
             "startlinecolor": "#2a3f5f"
            },
            "baxis": {
             "endlinecolor": "#2a3f5f",
             "gridcolor": "white",
             "linecolor": "white",
             "minorgridcolor": "white",
             "startlinecolor": "#2a3f5f"
            },
            "type": "carpet"
           }
          ],
          "choropleth": [
           {
            "colorbar": {
             "outlinewidth": 0,
             "ticks": ""
            },
            "type": "choropleth"
           }
          ],
          "contour": [
           {
            "colorbar": {
             "outlinewidth": 0,
             "ticks": ""
            },
            "colorscale": [
             [
              0,
              "#0d0887"
             ],
             [
              0.1111111111111111,
              "#46039f"
             ],
             [
              0.2222222222222222,
              "#7201a8"
             ],
             [
              0.3333333333333333,
              "#9c179e"
             ],
             [
              0.4444444444444444,
              "#bd3786"
             ],
             [
              0.5555555555555556,
              "#d8576b"
             ],
             [
              0.6666666666666666,
              "#ed7953"
             ],
             [
              0.7777777777777778,
              "#fb9f3a"
             ],
             [
              0.8888888888888888,
              "#fdca26"
             ],
             [
              1,
              "#f0f921"
             ]
            ],
            "type": "contour"
           }
          ],
          "contourcarpet": [
           {
            "colorbar": {
             "outlinewidth": 0,
             "ticks": ""
            },
            "type": "contourcarpet"
           }
          ],
          "heatmap": [
           {
            "colorbar": {
             "outlinewidth": 0,
             "ticks": ""
            },
            "colorscale": [
             [
              0,
              "#0d0887"
             ],
             [
              0.1111111111111111,
              "#46039f"
             ],
             [
              0.2222222222222222,
              "#7201a8"
             ],
             [
              0.3333333333333333,
              "#9c179e"
             ],
             [
              0.4444444444444444,
              "#bd3786"
             ],
             [
              0.5555555555555556,
              "#d8576b"
             ],
             [
              0.6666666666666666,
              "#ed7953"
             ],
             [
              0.7777777777777778,
              "#fb9f3a"
             ],
             [
              0.8888888888888888,
              "#fdca26"
             ],
             [
              1,
              "#f0f921"
             ]
            ],
            "type": "heatmap"
           }
          ],
          "heatmapgl": [
           {
            "colorbar": {
             "outlinewidth": 0,
             "ticks": ""
            },
            "colorscale": [
             [
              0,
              "#0d0887"
             ],
             [
              0.1111111111111111,
              "#46039f"
             ],
             [
              0.2222222222222222,
              "#7201a8"
             ],
             [
              0.3333333333333333,
              "#9c179e"
             ],
             [
              0.4444444444444444,
              "#bd3786"
             ],
             [
              0.5555555555555556,
              "#d8576b"
             ],
             [
              0.6666666666666666,
              "#ed7953"
             ],
             [
              0.7777777777777778,
              "#fb9f3a"
             ],
             [
              0.8888888888888888,
              "#fdca26"
             ],
             [
              1,
              "#f0f921"
             ]
            ],
            "type": "heatmapgl"
           }
          ],
          "histogram": [
           {
            "marker": {
             "pattern": {
              "fillmode": "overlay",
              "size": 10,
              "solidity": 0.2
             }
            },
            "type": "histogram"
           }
          ],
          "histogram2d": [
           {
            "colorbar": {
             "outlinewidth": 0,
             "ticks": ""
            },
            "colorscale": [
             [
              0,
              "#0d0887"
             ],
             [
              0.1111111111111111,
              "#46039f"
             ],
             [
              0.2222222222222222,
              "#7201a8"
             ],
             [
              0.3333333333333333,
              "#9c179e"
             ],
             [
              0.4444444444444444,
              "#bd3786"
             ],
             [
              0.5555555555555556,
              "#d8576b"
             ],
             [
              0.6666666666666666,
              "#ed7953"
             ],
             [
              0.7777777777777778,
              "#fb9f3a"
             ],
             [
              0.8888888888888888,
              "#fdca26"
             ],
             [
              1,
              "#f0f921"
             ]
            ],
            "type": "histogram2d"
           }
          ],
          "histogram2dcontour": [
           {
            "colorbar": {
             "outlinewidth": 0,
             "ticks": ""
            },
            "colorscale": [
             [
              0,
              "#0d0887"
             ],
             [
              0.1111111111111111,
              "#46039f"
             ],
             [
              0.2222222222222222,
              "#7201a8"
             ],
             [
              0.3333333333333333,
              "#9c179e"
             ],
             [
              0.4444444444444444,
              "#bd3786"
             ],
             [
              0.5555555555555556,
              "#d8576b"
             ],
             [
              0.6666666666666666,
              "#ed7953"
             ],
             [
              0.7777777777777778,
              "#fb9f3a"
             ],
             [
              0.8888888888888888,
              "#fdca26"
             ],
             [
              1,
              "#f0f921"
             ]
            ],
            "type": "histogram2dcontour"
           }
          ],
          "mesh3d": [
           {
            "colorbar": {
             "outlinewidth": 0,
             "ticks": ""
            },
            "type": "mesh3d"
           }
          ],
          "parcoords": [
           {
            "line": {
             "colorbar": {
              "outlinewidth": 0,
              "ticks": ""
             }
            },
            "type": "parcoords"
           }
          ],
          "pie": [
           {
            "automargin": true,
            "type": "pie"
           }
          ],
          "scatter": [
           {
            "fillpattern": {
             "fillmode": "overlay",
             "size": 10,
             "solidity": 0.2
            },
            "type": "scatter"
           }
          ],
          "scatter3d": [
           {
            "line": {
             "colorbar": {
              "outlinewidth": 0,
              "ticks": ""
             }
            },
            "marker": {
             "colorbar": {
              "outlinewidth": 0,
              "ticks": ""
             }
            },
            "type": "scatter3d"
           }
          ],
          "scattercarpet": [
           {
            "marker": {
             "colorbar": {
              "outlinewidth": 0,
              "ticks": ""
             }
            },
            "type": "scattercarpet"
           }
          ],
          "scattergeo": [
           {
            "marker": {
             "colorbar": {
              "outlinewidth": 0,
              "ticks": ""
             }
            },
            "type": "scattergeo"
           }
          ],
          "scattergl": [
           {
            "marker": {
             "colorbar": {
              "outlinewidth": 0,
              "ticks": ""
             }
            },
            "type": "scattergl"
           }
          ],
          "scattermapbox": [
           {
            "marker": {
             "colorbar": {
              "outlinewidth": 0,
              "ticks": ""
             }
            },
            "type": "scattermapbox"
           }
          ],
          "scatterpolar": [
           {
            "marker": {
             "colorbar": {
              "outlinewidth": 0,
              "ticks": ""
             }
            },
            "type": "scatterpolar"
           }
          ],
          "scatterpolargl": [
           {
            "marker": {
             "colorbar": {
              "outlinewidth": 0,
              "ticks": ""
             }
            },
            "type": "scatterpolargl"
           }
          ],
          "scatterternary": [
           {
            "marker": {
             "colorbar": {
              "outlinewidth": 0,
              "ticks": ""
             }
            },
            "type": "scatterternary"
           }
          ],
          "surface": [
           {
            "colorbar": {
             "outlinewidth": 0,
             "ticks": ""
            },
            "colorscale": [
             [
              0,
              "#0d0887"
             ],
             [
              0.1111111111111111,
              "#46039f"
             ],
             [
              0.2222222222222222,
              "#7201a8"
             ],
             [
              0.3333333333333333,
              "#9c179e"
             ],
             [
              0.4444444444444444,
              "#bd3786"
             ],
             [
              0.5555555555555556,
              "#d8576b"
             ],
             [
              0.6666666666666666,
              "#ed7953"
             ],
             [
              0.7777777777777778,
              "#fb9f3a"
             ],
             [
              0.8888888888888888,
              "#fdca26"
             ],
             [
              1,
              "#f0f921"
             ]
            ],
            "type": "surface"
           }
          ],
          "table": [
           {
            "cells": {
             "fill": {
              "color": "#EBF0F8"
             },
             "line": {
              "color": "white"
             }
            },
            "header": {
             "fill": {
              "color": "#C8D4E3"
             },
             "line": {
              "color": "white"
             }
            },
            "type": "table"
           }
          ]
         },
         "layout": {
          "annotationdefaults": {
           "arrowcolor": "#2a3f5f",
           "arrowhead": 0,
           "arrowwidth": 1
          },
          "autotypenumbers": "strict",
          "coloraxis": {
           "colorbar": {
            "outlinewidth": 0,
            "ticks": ""
           }
          },
          "colorscale": {
           "diverging": [
            [
             0,
             "#8e0152"
            ],
            [
             0.1,
             "#c51b7d"
            ],
            [
             0.2,
             "#de77ae"
            ],
            [
             0.3,
             "#f1b6da"
            ],
            [
             0.4,
             "#fde0ef"
            ],
            [
             0.5,
             "#f7f7f7"
            ],
            [
             0.6,
             "#e6f5d0"
            ],
            [
             0.7,
             "#b8e186"
            ],
            [
             0.8,
             "#7fbc41"
            ],
            [
             0.9,
             "#4d9221"
            ],
            [
             1,
             "#276419"
            ]
           ],
           "sequential": [
            [
             0,
             "#0d0887"
            ],
            [
             0.1111111111111111,
             "#46039f"
            ],
            [
             0.2222222222222222,
             "#7201a8"
            ],
            [
             0.3333333333333333,
             "#9c179e"
            ],
            [
             0.4444444444444444,
             "#bd3786"
            ],
            [
             0.5555555555555556,
             "#d8576b"
            ],
            [
             0.6666666666666666,
             "#ed7953"
            ],
            [
             0.7777777777777778,
             "#fb9f3a"
            ],
            [
             0.8888888888888888,
             "#fdca26"
            ],
            [
             1,
             "#f0f921"
            ]
           ],
           "sequentialminus": [
            [
             0,
             "#0d0887"
            ],
            [
             0.1111111111111111,
             "#46039f"
            ],
            [
             0.2222222222222222,
             "#7201a8"
            ],
            [
             0.3333333333333333,
             "#9c179e"
            ],
            [
             0.4444444444444444,
             "#bd3786"
            ],
            [
             0.5555555555555556,
             "#d8576b"
            ],
            [
             0.6666666666666666,
             "#ed7953"
            ],
            [
             0.7777777777777778,
             "#fb9f3a"
            ],
            [
             0.8888888888888888,
             "#fdca26"
            ],
            [
             1,
             "#f0f921"
            ]
           ]
          },
          "colorway": [
           "#636efa",
           "#EF553B",
           "#00cc96",
           "#ab63fa",
           "#FFA15A",
           "#19d3f3",
           "#FF6692",
           "#B6E880",
           "#FF97FF",
           "#FECB52"
          ],
          "font": {
           "color": "#2a3f5f"
          },
          "geo": {
           "bgcolor": "white",
           "lakecolor": "white",
           "landcolor": "#E5ECF6",
           "showlakes": true,
           "showland": true,
           "subunitcolor": "white"
          },
          "hoverlabel": {
           "align": "left"
          },
          "hovermode": "closest",
          "mapbox": {
           "style": "light"
          },
          "paper_bgcolor": "white",
          "plot_bgcolor": "#E5ECF6",
          "polar": {
           "angularaxis": {
            "gridcolor": "white",
            "linecolor": "white",
            "ticks": ""
           },
           "bgcolor": "#E5ECF6",
           "radialaxis": {
            "gridcolor": "white",
            "linecolor": "white",
            "ticks": ""
           }
          },
          "scene": {
           "xaxis": {
            "backgroundcolor": "#E5ECF6",
            "gridcolor": "white",
            "gridwidth": 2,
            "linecolor": "white",
            "showbackground": true,
            "ticks": "",
            "zerolinecolor": "white"
           },
           "yaxis": {
            "backgroundcolor": "#E5ECF6",
            "gridcolor": "white",
            "gridwidth": 2,
            "linecolor": "white",
            "showbackground": true,
            "ticks": "",
            "zerolinecolor": "white"
           },
           "zaxis": {
            "backgroundcolor": "#E5ECF6",
            "gridcolor": "white",
            "gridwidth": 2,
            "linecolor": "white",
            "showbackground": true,
            "ticks": "",
            "zerolinecolor": "white"
           }
          },
          "shapedefaults": {
           "line": {
            "color": "#2a3f5f"
           }
          },
          "ternary": {
           "aaxis": {
            "gridcolor": "white",
            "linecolor": "white",
            "ticks": ""
           },
           "baxis": {
            "gridcolor": "white",
            "linecolor": "white",
            "ticks": ""
           },
           "bgcolor": "#E5ECF6",
           "caxis": {
            "gridcolor": "white",
            "linecolor": "white",
            "ticks": ""
           }
          },
          "title": {
           "x": 0.05
          },
          "xaxis": {
           "automargin": true,
           "gridcolor": "white",
           "linecolor": "white",
           "ticks": "",
           "title": {
            "standoff": 15
           },
           "zerolinecolor": "white",
           "zerolinewidth": 2
          },
          "yaxis": {
           "automargin": true,
           "gridcolor": "white",
           "linecolor": "white",
           "ticks": "",
           "title": {
            "standoff": 15
           },
           "zerolinecolor": "white",
           "zerolinewidth": 2
          }
         }
        },
        "title": {
         "text": "Big O - Time Complexity"
        },
        "width": 1000,
        "xaxis": {
         "anchor": "y",
         "domain": [
          0,
          0.16799999999999998
         ]
        },
        "xaxis2": {
         "anchor": "y2",
         "domain": [
          0.208,
          0.376
         ]
        },
        "xaxis3": {
         "anchor": "y3",
         "domain": [
          0.416,
          0.584
         ]
        },
        "xaxis4": {
         "anchor": "y4",
         "domain": [
          0.624,
          0.792
         ]
        },
        "xaxis5": {
         "anchor": "y5",
         "domain": [
          0.832,
          1
         ]
        },
        "yaxis": {
         "anchor": "x",
         "domain": [
          0,
          1
         ]
        },
        "yaxis2": {
         "anchor": "x2",
         "domain": [
          0,
          1
         ],
         "matches": "y",
         "showticklabels": false
        },
        "yaxis3": {
         "anchor": "x3",
         "domain": [
          0,
          1
         ],
         "matches": "y",
         "showticklabels": false
        },
        "yaxis4": {
         "anchor": "x4",
         "domain": [
          0,
          1
         ],
         "matches": "y",
         "showticklabels": false
        },
        "yaxis5": {
         "anchor": "x5",
         "domain": [
          0,
          1
         ],
         "matches": "y",
         "showticklabels": false
        }
       }
      },
      "text/html": [
       "<div>                            <div id=\"d68dd668-a933-416c-9b32-7e02b4f8f53d\" class=\"plotly-graph-div\" style=\"height:300px; width:1000px;\"></div>            <script type=\"text/javascript\">                require([\"plotly\"], function(Plotly) {                    window.PLOTLYENV=window.PLOTLYENV || {};                                    if (document.getElementById(\"d68dd668-a933-416c-9b32-7e02b4f8f53d\")) {                    Plotly.newPlot(                        \"d68dd668-a933-416c-9b32-7e02b4f8f53d\",                        [{\"name\":\"log n\",\"x\":[1,2,3,4],\"y\":[0.0,1.0,1.584962500721156,2.0],\"type\":\"scatter\",\"xaxis\":\"x\",\"yaxis\":\"y\"},{\"name\":\"n\",\"x\":[1,2,3,4],\"y\":[1,2,3,4],\"type\":\"scatter\",\"xaxis\":\"x2\",\"yaxis\":\"y2\"},{\"name\":\"n log n\",\"x\":[1,2,3,4],\"y\":[0.0,2.0,4.754887502163468,8.0],\"type\":\"scatter\",\"xaxis\":\"x3\",\"yaxis\":\"y3\"},{\"name\":\"n\\u003csup\\u003e2\\u003c\\u002fsup\\u003e\",\"x\":[1,2,3,4],\"y\":[1,4,9,16],\"type\":\"scatter\",\"xaxis\":\"x4\",\"yaxis\":\"y4\"},{\"name\":\"n!\",\"x\":[1,2,3,4],\"y\":[1.0,2.0,6.0,24.0],\"type\":\"scatter\",\"xaxis\":\"x5\",\"yaxis\":\"y5\"}],                        {\"template\":{\"data\":{\"histogram2dcontour\":[{\"type\":\"histogram2dcontour\",\"colorbar\":{\"outlinewidth\":0,\"ticks\":\"\"},\"colorscale\":[[0.0,\"#0d0887\"],[0.1111111111111111,\"#46039f\"],[0.2222222222222222,\"#7201a8\"],[0.3333333333333333,\"#9c179e\"],[0.4444444444444444,\"#bd3786\"],[0.5555555555555556,\"#d8576b\"],[0.6666666666666666,\"#ed7953\"],[0.7777777777777778,\"#fb9f3a\"],[0.8888888888888888,\"#fdca26\"],[1.0,\"#f0f921\"]]}],\"choropleth\":[{\"type\":\"choropleth\",\"colorbar\":{\"outlinewidth\":0,\"ticks\":\"\"}}],\"histogram2d\":[{\"type\":\"histogram2d\",\"colorbar\":{\"outlinewidth\":0,\"ticks\":\"\"},\"colorscale\":[[0.0,\"#0d0887\"],[0.1111111111111111,\"#46039f\"],[0.2222222222222222,\"#7201a8\"],[0.3333333333333333,\"#9c179e\"],[0.4444444444444444,\"#bd3786\"],[0.5555555555555556,\"#d8576b\"],[0.6666666666666666,\"#ed7953\"],[0.7777777777777778,\"#fb9f3a\"],[0.8888888888888888,\"#fdca26\"],[1.0,\"#f0f921\"]]}],\"heatmap\":[{\"type\":\"heatmap\",\"colorbar\":{\"outlinewidth\":0,\"ticks\":\"\"},\"colorscale\":[[0.0,\"#0d0887\"],[0.1111111111111111,\"#46039f\"],[0.2222222222222222,\"#7201a8\"],[0.3333333333333333,\"#9c179e\"],[0.4444444444444444,\"#bd3786\"],[0.5555555555555556,\"#d8576b\"],[0.6666666666666666,\"#ed7953\"],[0.7777777777777778,\"#fb9f3a\"],[0.8888888888888888,\"#fdca26\"],[1.0,\"#f0f921\"]]}],\"heatmapgl\":[{\"type\":\"heatmapgl\",\"colorbar\":{\"outlinewidth\":0,\"ticks\":\"\"},\"colorscale\":[[0.0,\"#0d0887\"],[0.1111111111111111,\"#46039f\"],[0.2222222222222222,\"#7201a8\"],[0.3333333333333333,\"#9c179e\"],[0.4444444444444444,\"#bd3786\"],[0.5555555555555556,\"#d8576b\"],[0.6666666666666666,\"#ed7953\"],[0.7777777777777778,\"#fb9f3a\"],[0.8888888888888888,\"#fdca26\"],[1.0,\"#f0f921\"]]}],\"contourcarpet\":[{\"type\":\"contourcarpet\",\"colorbar\":{\"outlinewidth\":0,\"ticks\":\"\"}}],\"contour\":[{\"type\":\"contour\",\"colorbar\":{\"outlinewidth\":0,\"ticks\":\"\"},\"colorscale\":[[0.0,\"#0d0887\"],[0.1111111111111111,\"#46039f\"],[0.2222222222222222,\"#7201a8\"],[0.3333333333333333,\"#9c179e\"],[0.4444444444444444,\"#bd3786\"],[0.5555555555555556,\"#d8576b\"],[0.6666666666666666,\"#ed7953\"],[0.7777777777777778,\"#fb9f3a\"],[0.8888888888888888,\"#fdca26\"],[1.0,\"#f0f921\"]]}],\"surface\":[{\"type\":\"surface\",\"colorbar\":{\"outlinewidth\":0,\"ticks\":\"\"},\"colorscale\":[[0.0,\"#0d0887\"],[0.1111111111111111,\"#46039f\"],[0.2222222222222222,\"#7201a8\"],[0.3333333333333333,\"#9c179e\"],[0.4444444444444444,\"#bd3786\"],[0.5555555555555556,\"#d8576b\"],[0.6666666666666666,\"#ed7953\"],[0.7777777777777778,\"#fb9f3a\"],[0.8888888888888888,\"#fdca26\"],[1.0,\"#f0f921\"]]}],\"mesh3d\":[{\"type\":\"mesh3d\",\"colorbar\":{\"outlinewidth\":0,\"ticks\":\"\"}}],\"scatter\":[{\"fillpattern\":{\"fillmode\":\"overlay\",\"size\":10,\"solidity\":0.2},\"type\":\"scatter\"}],\"parcoords\":[{\"type\":\"parcoords\",\"line\":{\"colorbar\":{\"outlinewidth\":0,\"ticks\":\"\"}}}],\"scatterpolargl\":[{\"type\":\"scatterpolargl\",\"marker\":{\"colorbar\":{\"outlinewidth\":0,\"ticks\":\"\"}}}],\"bar\":[{\"error_x\":{\"color\":\"#2a3f5f\"},\"error_y\":{\"color\":\"#2a3f5f\"},\"marker\":{\"line\":{\"color\":\"#E5ECF6\",\"width\":0.5},\"pattern\":{\"fillmode\":\"overlay\",\"size\":10,\"solidity\":0.2}},\"type\":\"bar\"}],\"scattergeo\":[{\"type\":\"scattergeo\",\"marker\":{\"colorbar\":{\"outlinewidth\":0,\"ticks\":\"\"}}}],\"scatterpolar\":[{\"type\":\"scatterpolar\",\"marker\":{\"colorbar\":{\"outlinewidth\":0,\"ticks\":\"\"}}}],\"histogram\":[{\"marker\":{\"pattern\":{\"fillmode\":\"overlay\",\"size\":10,\"solidity\":0.2}},\"type\":\"histogram\"}],\"scattergl\":[{\"type\":\"scattergl\",\"marker\":{\"colorbar\":{\"outlinewidth\":0,\"ticks\":\"\"}}}],\"scatter3d\":[{\"type\":\"scatter3d\",\"line\":{\"colorbar\":{\"outlinewidth\":0,\"ticks\":\"\"}},\"marker\":{\"colorbar\":{\"outlinewidth\":0,\"ticks\":\"\"}}}],\"scattermapbox\":[{\"type\":\"scattermapbox\",\"marker\":{\"colorbar\":{\"outlinewidth\":0,\"ticks\":\"\"}}}],\"scatterternary\":[{\"type\":\"scatterternary\",\"marker\":{\"colorbar\":{\"outlinewidth\":0,\"ticks\":\"\"}}}],\"scattercarpet\":[{\"type\":\"scattercarpet\",\"marker\":{\"colorbar\":{\"outlinewidth\":0,\"ticks\":\"\"}}}],\"carpet\":[{\"aaxis\":{\"endlinecolor\":\"#2a3f5f\",\"gridcolor\":\"white\",\"linecolor\":\"white\",\"minorgridcolor\":\"white\",\"startlinecolor\":\"#2a3f5f\"},\"baxis\":{\"endlinecolor\":\"#2a3f5f\",\"gridcolor\":\"white\",\"linecolor\":\"white\",\"minorgridcolor\":\"white\",\"startlinecolor\":\"#2a3f5f\"},\"type\":\"carpet\"}],\"table\":[{\"cells\":{\"fill\":{\"color\":\"#EBF0F8\"},\"line\":{\"color\":\"white\"}},\"header\":{\"fill\":{\"color\":\"#C8D4E3\"},\"line\":{\"color\":\"white\"}},\"type\":\"table\"}],\"barpolar\":[{\"marker\":{\"line\":{\"color\":\"#E5ECF6\",\"width\":0.5},\"pattern\":{\"fillmode\":\"overlay\",\"size\":10,\"solidity\":0.2}},\"type\":\"barpolar\"}],\"pie\":[{\"automargin\":true,\"type\":\"pie\"}]},\"layout\":{\"autotypenumbers\":\"strict\",\"colorway\":[\"#636efa\",\"#EF553B\",\"#00cc96\",\"#ab63fa\",\"#FFA15A\",\"#19d3f3\",\"#FF6692\",\"#B6E880\",\"#FF97FF\",\"#FECB52\"],\"font\":{\"color\":\"#2a3f5f\"},\"hovermode\":\"closest\",\"hoverlabel\":{\"align\":\"left\"},\"paper_bgcolor\":\"white\",\"plot_bgcolor\":\"#E5ECF6\",\"polar\":{\"bgcolor\":\"#E5ECF6\",\"angularaxis\":{\"gridcolor\":\"white\",\"linecolor\":\"white\",\"ticks\":\"\"},\"radialaxis\":{\"gridcolor\":\"white\",\"linecolor\":\"white\",\"ticks\":\"\"}},\"ternary\":{\"bgcolor\":\"#E5ECF6\",\"aaxis\":{\"gridcolor\":\"white\",\"linecolor\":\"white\",\"ticks\":\"\"},\"baxis\":{\"gridcolor\":\"white\",\"linecolor\":\"white\",\"ticks\":\"\"},\"caxis\":{\"gridcolor\":\"white\",\"linecolor\":\"white\",\"ticks\":\"\"}},\"coloraxis\":{\"colorbar\":{\"outlinewidth\":0,\"ticks\":\"\"}},\"colorscale\":{\"sequential\":[[0.0,\"#0d0887\"],[0.1111111111111111,\"#46039f\"],[0.2222222222222222,\"#7201a8\"],[0.3333333333333333,\"#9c179e\"],[0.4444444444444444,\"#bd3786\"],[0.5555555555555556,\"#d8576b\"],[0.6666666666666666,\"#ed7953\"],[0.7777777777777778,\"#fb9f3a\"],[0.8888888888888888,\"#fdca26\"],[1.0,\"#f0f921\"]],\"sequentialminus\":[[0.0,\"#0d0887\"],[0.1111111111111111,\"#46039f\"],[0.2222222222222222,\"#7201a8\"],[0.3333333333333333,\"#9c179e\"],[0.4444444444444444,\"#bd3786\"],[0.5555555555555556,\"#d8576b\"],[0.6666666666666666,\"#ed7953\"],[0.7777777777777778,\"#fb9f3a\"],[0.8888888888888888,\"#fdca26\"],[1.0,\"#f0f921\"]],\"diverging\":[[0,\"#8e0152\"],[0.1,\"#c51b7d\"],[0.2,\"#de77ae\"],[0.3,\"#f1b6da\"],[0.4,\"#fde0ef\"],[0.5,\"#f7f7f7\"],[0.6,\"#e6f5d0\"],[0.7,\"#b8e186\"],[0.8,\"#7fbc41\"],[0.9,\"#4d9221\"],[1,\"#276419\"]]},\"xaxis\":{\"gridcolor\":\"white\",\"linecolor\":\"white\",\"ticks\":\"\",\"title\":{\"standoff\":15},\"zerolinecolor\":\"white\",\"automargin\":true,\"zerolinewidth\":2},\"yaxis\":{\"gridcolor\":\"white\",\"linecolor\":\"white\",\"ticks\":\"\",\"title\":{\"standoff\":15},\"zerolinecolor\":\"white\",\"automargin\":true,\"zerolinewidth\":2},\"scene\":{\"xaxis\":{\"backgroundcolor\":\"#E5ECF6\",\"gridcolor\":\"white\",\"linecolor\":\"white\",\"showbackground\":true,\"ticks\":\"\",\"zerolinecolor\":\"white\",\"gridwidth\":2},\"yaxis\":{\"backgroundcolor\":\"#E5ECF6\",\"gridcolor\":\"white\",\"linecolor\":\"white\",\"showbackground\":true,\"ticks\":\"\",\"zerolinecolor\":\"white\",\"gridwidth\":2},\"zaxis\":{\"backgroundcolor\":\"#E5ECF6\",\"gridcolor\":\"white\",\"linecolor\":\"white\",\"showbackground\":true,\"ticks\":\"\",\"zerolinecolor\":\"white\",\"gridwidth\":2}},\"shapedefaults\":{\"line\":{\"color\":\"#2a3f5f\"}},\"annotationdefaults\":{\"arrowcolor\":\"#2a3f5f\",\"arrowhead\":0,\"arrowwidth\":1},\"geo\":{\"bgcolor\":\"white\",\"landcolor\":\"#E5ECF6\",\"subunitcolor\":\"white\",\"showland\":true,\"showlakes\":true,\"lakecolor\":\"white\"},\"title\":{\"x\":0.05},\"mapbox\":{\"style\":\"light\"}}},\"xaxis\":{\"anchor\":\"y\",\"domain\":[0.0,0.16799999999999998]},\"yaxis\":{\"anchor\":\"x\",\"domain\":[0.0,1.0]},\"xaxis2\":{\"anchor\":\"y2\",\"domain\":[0.208,0.376]},\"yaxis2\":{\"anchor\":\"x2\",\"domain\":[0.0,1.0],\"matches\":\"y\",\"showticklabels\":false},\"xaxis3\":{\"anchor\":\"y3\",\"domain\":[0.416,0.584]},\"yaxis3\":{\"anchor\":\"x3\",\"domain\":[0.0,1.0],\"matches\":\"y\",\"showticklabels\":false},\"xaxis4\":{\"anchor\":\"y4\",\"domain\":[0.624,0.792]},\"yaxis4\":{\"anchor\":\"x4\",\"domain\":[0.0,1.0],\"matches\":\"y\",\"showticklabels\":false},\"xaxis5\":{\"anchor\":\"y5\",\"domain\":[0.832,1.0]},\"yaxis5\":{\"anchor\":\"x5\",\"domain\":[0.0,1.0],\"matches\":\"y\",\"showticklabels\":false},\"title\":{\"text\":\"Big O - Time Complexity\"},\"height\":300,\"width\":1000},                        {\"responsive\": true}                    ).then(function(){\n",
       "                            \n",
       "var gd = document.getElementById('d68dd668-a933-416c-9b32-7e02b4f8f53d');\n",
       "var x = new MutationObserver(function (mutations, observer) {{\n",
       "        var display = window.getComputedStyle(gd).display;\n",
       "        if (!display || display === 'none') {{\n",
       "            console.log([gd, 'removed!']);\n",
       "            Plotly.purge(gd);\n",
       "            observer.disconnect();\n",
       "        }}\n",
       "}});\n",
       "\n",
       "// Listen for the removal of the full notebook cells\n",
       "var notebookContainer = gd.closest('#notebook-container');\n",
       "if (notebookContainer) {{\n",
       "    x.observe(notebookContainer, {childList: true});\n",
       "}}\n",
       "\n",
       "// Listen for the clearing of the current output cell\n",
       "var outputEl = gd.closest('.output');\n",
       "if (outputEl) {{\n",
       "    x.observe(outputEl, {childList: true});\n",
       "}}\n",
       "\n",
       "                        })                };                });            </script>        </div>"
      ]
     },
     "metadata": {},
     "output_type": "display_data"
    }
   ],
   "source": [
    "from scipy.special import factorial\n",
    "import numpy as np\n",
    "from plotly.subplots import make_subplots\n",
    "import plotly.graph_objects as go\n",
    "\n",
    "x = np.arange(1,5,1)\n",
    "\n",
    "fig = make_subplots(rows=1, cols=5, shared_yaxes=True)\n",
    "\n",
    "fig.add_trace(go.Line(x=x,y=np.log2(x), name='log n'), row=1, col=1)\n",
    "fig.add_trace(go.Line(x=x,y=x, name='n'), row=1, col=2)\n",
    "fig.add_trace(go.Line(x=x,y=x*np.log2(x), name='n log n'), row=1, col=3)\n",
    "fig.add_trace(go.Line(x=x,y=x*x, name='n<sup>2</sup>'), row=1, col=4)\n",
    "fig.add_trace(go.Line(x=x,y=factorial(x), name='n!'), row=1, col=5)\n",
    "\n",
    "fig.update_layout(height=300, width=1000, title_text=\"Big O - Time Complexity\")\n",
    "fig.show()"
   ]
  },
  {
   "cell_type": "markdown",
   "metadata": {},
   "source": [
    "## Built In Data Types\n",
    "\n",
    "Tuples\n",
    "\n",
    "- good when you don't have to change the data\n",
    "- immutable, iterable, indexed, ordered\n",
    "\n",
    "Lists\n",
    "\n",
    "- mutable, use when you have to change\n",
    "- ordered\n",
    "- userful, reverse and sort, append, pop, remove\n",
    "\n",
    "Dictionaries\n",
    "\n",
    "- mutable, iterable, ordered (3.7+)\n",
    "\n",
    "Sets\n",
    "\n",
    "- unique, mutable, fast, unordered cannot index, iterable.\n",
    "- add update remove\n",
    "- intersection, difference; math functions"
   ]
  },
  {
   "cell_type": "markdown",
   "metadata": {},
   "source": [
    "## Abstract Data Types\n",
    "\n",
    "These are general and well known data types that exist in Computer Science domain, eg linked-list. People know what data type it can hold and how to access it. They are language agnostic.\n",
    "\n",
    "Advantages\n",
    "\n",
    "- abstraction - you need not know inner working\n",
    "- consistency - inner implementation can change but outer interface remains the same. So code using it need not to be changed.\n",
    "\n",
    "Data Structure\n",
    "\n",
    "- Implementation of _abstract data type_.\n",
    "- Implementation means how you implement a ADT in program. Eg, how you implement a Link-List in Python. Once you implement it becomes data-structure.\n",
    "\n",
    "**List vs LinkedList**\n",
    "\n",
    "- **Memory**: List stores elements in contiguous (common border) memory, one next to another, so adding new elements should have contiguous memory available (otherwise cannot store it). Also, this means yoy have to block the memory even if you do not use it (eg in java you do initialize 10 size array). Linked Lists store the values randomly in memory where every it has free space, and it has pointer to next element.\n",
    "- **Accessibility**: Arrays are good as there is sequential index, you can directly access last element, or fifth, forth last etc. But in LL you have to traverse whole list to access last element as LL has no index. Array is good for random access, LL is good for accessing whole list.\n",
    "\n",
    "Worst Case | Arrays | Lists | Reason\n",
    "--|-- |--|--\n",
    "Reading | O(1) | O(n) | Reading last elem in LL is worst, so O(n)\n",
    "Insertion | O(n) | O(1) | Insert at start of array then you have to move all elem, hence O(n)\n",
    "Deletion | O(n) | O(1) | Del 1st elem in array, you move all 1 memory back\n",
    "\n",
    "- **Use Case**: Too many write, few read, eg, in expense entry system, you enter each day but read total at month end. You would prefer LL, as it has low order of execution for write. Remember, _Arrays allow fast reads. Linked lists allow fast inserts and deletes_.\n",
    "\n",
    "Linked List\n",
    "\n",
    "- Has a pointer to next element's memory location\n",
    "- List having no pointer is empty linked list\n",
    "- Recursive Data Type [?]\n",
    "\n",
    "- Operations\n",
    "  - Add\n",
    "  - Remove\n",
    "  - Is empty\n",
    "  - how many nodes\n",
    "  - find node's index given its key\n",
    "\n",
    "- When to use\n",
    "  - insert in between other items\n",
    "  - collection size is unknown\n",
    "  - don't need random access\n",
    "  - not concerned about memory\n",
    "\n",
    "References:\n",
    "\n",
    "- [Book - Problem Solving with Algorithms and Data Structures using Python](https://runestone.academy/ns/books/published/pythonds/index.html)"
   ]
  },
  {
   "cell_type": "markdown",
   "metadata": {},
   "source": [
    "## Linear Data Structures\n",
    "\n",
    "Stacks\n",
    "\n",
    "- Linear data structure\n",
    "- LIFO\n",
    "- maintains queue in which they were added\n",
    "- when want quick access to latest item\n",
    "\n",
    "Queues\n",
    "\n",
    "- FIFO\n",
    "- Ordered\n",
    "- Use when you have to process something in order\n",
    "\n",
    "Linked List\n",
    "\n",
    "- Singly linked, ordered\n",
    "- When you have unknown number of items\n",
    "- One-direction movement is ok\n",
    "- Insert in between\n",
    "\n",
    "Doubly Link list\n",
    "\n",
    "- move both directions\n",
    "- ordered\n",
    "- when you need to move both ways\n",
    "- sequential access of data\n"
   ]
  },
  {
   "cell_type": "markdown",
   "metadata": {},
   "source": [
    "## Non-Linear Data Structures\n",
    "\n",
    "\n",
    "Non Linear Data Structures\n",
    "\n",
    "- Trees \n",
    "- Binary Search Trees\n",
    "- Graphs\n",
    "- Hash Maps\n",
    "\n",
    "Trees\n",
    "\n",
    "- hierarchical, level, nodes\n",
    "- when you need to store hierarchical\n",
    "\n",
    "Binary\n",
    "\n",
    "- smaller on left, large on right\n",
    "- root is midpoint\n",
    "- lookup, o(log n) time, as it eliminates half\n",
    "\n",
    "Graphs\n",
    "\n",
    "- A finite set of nodes connected by edges\n",
    "- Edges can have optional values (attributes)\n",
    "- when you need relationship between nodes\n",
    "\n",
    "Hash Maps\n",
    "\n",
    "- key - value\n",
    "- like dictionaries, name to id and id has phone numbers\n"
   ]
  },
  {
   "cell_type": "markdown",
   "metadata": {},
   "source": [
    "## Binary Search\n",
    "\n",
    "It searches a **Sorted** list. Starts from mid and compares the item, in each comparison it gets to know in which half the item would be, hence, ignores the rest half. This makes the search possible in maximum, $\\log n$ times.\n",
    "\n",
    "How, $log_2 n$:\n",
    "\n",
    "- since in each search the number is **halved**, so 32 - 16 - 8 - 4 - 2 , this can be remembered as, total elements are getting chopped/logged in base of 2.\n",
    "- mathematically, the total elements n, reduce in power of 2, hence,\n",
    "  - numbers in each steps are power of 2, so how many steps are there, \n",
    "  - what power of 2 gives numbers, \n",
    "  - what power of 2 gives 32? it is 5\n",
    "  - log 32 base 2, is what? it is 5\n",
    "\n",
    "Hence, the it is `O(log n)` complexity algorithm.\n",
    "\n",
    "- **Binary Search Algorithm**\n",
    "  - if an array is sorted\n",
    "  - find the number in middle\n",
    "  - then look left or right\n",
    "  - complexity is `log(n)` - that means that in worst case the number of iterations will be `log(n)` for an array of length `n`\n",
    "  \n",
    "  - how?\n",
    "    - lets say we do `k` iterations (at max) to search a number in array of length `n`, i.e. loop will run no more than k times and is hence worst case scenario, so\n",
    "    - iter: 1, length: n/2\n",
    "    - iter: 2, length: n/4 = n/2^2\n",
    "    - iter: 3, length: n/4 = n/2^3\n",
    "    - ...\n",
    "    - iter: k, length: n/2^k, this is last iteration and we know in worst case the length will be reduced to 1.\n",
    "    - `n/2^k = 1` or solve it to get\n",
    "    - `k = log(n)` which means that the code will have to run maximum `log(n)` number of times.\n",
    "\n",
    "\n",
    "- Links\n",
    "  - [Binary Search, Linked Lists and Complexity | Data Structures and Algorithms in Python](https://www.youtube.com/watch?v=clTW4lydwOU&list=PLyMom0n-MBrpakdIZvnhd6PFUCKNAyKo1&index=1) - direct code, no plain algo dry run"
   ]
  },
  {
   "cell_type": "markdown",
   "metadata": {},
   "source": [
    "## Selection Sort\n",
    "\n",
    "Sorting simply by comparing a item in list by other items is easy. Its complexity is item1 compared to n others, item 2 compared to n others and so on until item_n compared to n others, which is, n x O(n) or $O(n^2)$\n",
    "\n",
    "**Complexity**: $O(n^2)$\n",
    "\n",
    "You would be comparing one less item in each step, but that one would come up as constant with n, and we ignore constant in Big O.\n",
    "\n"
   ]
  },
  {
   "cell_type": "markdown",
   "metadata": {},
   "source": [
    "## Recursion\n",
    "\n",
    "Recursion is when a function calls itself.\n",
    "\n",
    "Every recursive function has two parts: the base case, and the recursive case. Base case tells when to break the recursion and stop the execution.\n",
    "\n",
    "Recursive case calls the function itself, and in base case, it doesn't hence ends. Eg:\n",
    "\n",
    "```py\n",
    "def countdown(i):\n",
    "    print (i)\n",
    "    if i <= 0:          # Base case\n",
    "        return\n",
    "    else:               # Recursive case\n",
    "        countdown(i-1)\n",
    "```\n",
    "\n",
    "Example 2: Factorial of a number\n",
    "\n",
    "```py\n",
    "def fact(x):\n",
    "    if x == 1:              # Base case\n",
    "        return 1\n",
    "    else:                   # Recursive case\n",
    "        return x * fact(x-1)\n",
    "```\n",
    "\n",
    "**Call Stacks**\n",
    "\n",
    "- In programming execution, there is call stack, in which each item of stack is a function call and this item is popped from stack when it returns or ends.\n",
    "- So if a function B is called from a line A, then B is stacked on top of A until B returns.\n",
    "- In recursion, lets say, A calls B - factorial function, then stacks builds as, A B(5) B(4) B(3) B(2) B(1). The top item in stack, B(1) returns $1$, and then other stack returns $2*1$ and so on, so you lastly get, $1*2*3*4*5$\n",
    "- **Tip**: When you’re writing a recursive function involving an array, the base case is often an empty array or an array with one element."
   ]
  },
  {
   "cell_type": "markdown",
   "metadata": {},
   "source": [
    "## Quicksort\n",
    "\n",
    "**Divide & Conquer**\n",
    "\n",
    "D&C algorithms are recursive algorithms. To solve a problem using D&C, there are two steps:\n",
    "\n",
    "1. Figure out the base case. This should be the simplest possible case.\n",
    "2. Divide or decrease your problem until it becomes the base case.\n",
    "\n",
    "D&C isn’t a simple algorithm that you can apply to a problem. Instead, it’s a way to think about a problem.\n",
    "\n",
    "**Quicksort Algorithm**\n",
    "\n",
    "- pick an element in array, called `pivot`\n",
    "- make new array having all elements less than pivot, `less[]`\n",
    "- make new array having all elements more than pivot, `more[]`\n",
    "- recursively do same thing on `less` and `more`.\n",
    "\n",
    "**Base Case** You need not sort an empty array or array with one element. It is sorted. eg, `[]` or `[20]`.\n",
    "\n",
    "**Recursive Case** You need to build less and more array and then do same.\n",
    "\n",
    "**Code**\n",
    "\n",
    "```py\n",
    "def quicksort(array):\n",
    "    if len(array) < 2:\n",
    "        return array        # Base case: arrays with 0 or 1 element are already “sorted”\n",
    "    else:\n",
    "        pivot = array[0]    # Recursive case\n",
    "        less = [i for i in array[1:] if i <= pivot]\n",
    "        greater = [i for i in array[1:] if i > pivot]\n",
    "        return quicksort(less) + [pivot] + quicksort(greater)\n",
    "```\n",
    "\n",
    "**Complexity**\n",
    "\n",
    "$O(n) = n \\log n$ , average case\n",
    "\n",
    "$O(n) = n^2$ , worst case"
   ]
  },
  {
   "cell_type": "markdown",
   "metadata": {},
   "source": [
    "## Hash Tables\n",
    "\n",
    "Lets build somethings that searches in O(1) complexity, that is **instantly**. No matter how long the array is, you get the result instantly.\n",
    "\n",
    "They’re also known as hash maps, maps, **dictionaries**, and associative arrays.\n",
    "\n",
    "You’ll probably never have to implement hash tables yourself. Any good language will have an implementation for hash tables. Python has hash tables; they’re called _dictionaries_.\n",
    "\n",
    "**Hash Functions**\n",
    "\n",
    "- It is a function where you put a string and you get back a number. That number tells index where the value is stored.\n",
    "- Dict in Py is such implementation, you put a `key` it knows index, reads and returns a `value`.\n",
    "\n",
    "**Code**\n",
    "\n",
    "```py\n",
    "# create a hash table\n",
    "book = dict()\n",
    "```\n",
    "\n",
    "**Usage**\n",
    "\n",
    "- **Relationship** of one thing to another, or key-value pair\n",
    "- Filtering out **duplicates**\n",
    "- They have **no ordering**\n",
    "\n",
    "**Implementation**\n",
    "\n",
    "- Hash function is important, it should not do collision (same index for different key).\n",
    "- Reading array is O(1), as you can simply read from memory on the index you provide, So 1 elem or 1billion, just read that index from memory, hence O(1).\n",
    "- Insert and Delete in LinkedList is fast O(1).\n",
    "- Hash is best of both, for average case.\n",
    "- If load in hast table (occupied / empty slots) is more than 0.7, resize it to maintain optimal performance.\n",
    "- Real implementation of **good** hash function is beyond scope for now!"
   ]
  },
  {
   "cell_type": "markdown",
   "metadata": {},
   "source": [
    "## Breadth-First Search\n",
    "\n",
    "When trying to solve problem like **shortest-distance**, try to model problem as **graph** and solve it using **Breadth-first Search** (BFS).\n",
    "\n",
    "**Graphs**\n",
    "\n",
    "- Rama ---owes----> Bob ; or shows rama owes money to Bob. this can have many relations where 1 owes to 2 and 3, and 3 owes to 1, 4 etc.\n",
    "- It has **node** and **edge**\n",
    "- The **directed** graph has edge pointing to node, **undirected** has no direction of edge.\n",
    "\n",
    "**BFS**\n",
    "\n",
    "- Lets say you want to search who works in Google in your friend list.\n",
    "- you build a list of your friends and search one by one if they work in Google.\n",
    "- If not, you add their friend (friend of friend, 2nd degree relation) to end of list, so that you can find someone working in google in your network.\n",
    "- But first, you search **all your 1st degree friends**, this is Breadth-First Search. Because you want to find the **shortest path** to Google working friend, which why you first search all your 1st connection. (search in order they are added to search list), data structure for this is **queue**. and for representing relations is **hash-tables**\n",
    "- **BFS** finds path from A to B, and if so, it **finds the shortest path**.\n",
    "\n",
    "**Queues**\n",
    "\n",
    "- FIFO - **First in first out** (like queue at bus stop), opposite of stack which is LIFO.\n",
    "\n",
    "**Code**\n",
    "\n",
    "You can implement using `List` for **Queue** and `Dictionary` for **hashmap**. And maintain another `list` for **Array** of searched nodes to avoid circular relation and sending into **infinite loop**.\n",
    "\n",
    "**Time Complexity**\n",
    "\n",
    "- Running all edges will take $O(E)$, number of edges\n",
    "- Running queue for all person will take $O(V)$ that is number of vertices\n",
    "- Running **breadth-first search** that is above two, will be \n",
    "- $O(V+E)$\n",
    "\n",
    "**Tree**\n",
    "\n",
    "- let say you see a family tree showing parents and child, edges represent parent, so they can point only one way, son ---parent---> father, as son can't be parent of father. These **graphs are trees**. \n",
    "- A tree is a special type of graph, where **no edges ever point back**."
   ]
  },
  {
   "cell_type": "markdown",
   "metadata": {},
   "source": [
    "```mermaid\n",
    "flowchart TD\n",
    "Son --> Mother --> GrandFatherM\n",
    "Son --> Father --> GrandFatherF\n",
    "Father --> GrandMotherF\n",
    "Mother --> GrandMotherM\n",
    "```"
   ]
  },
  {
   "cell_type": "markdown",
   "metadata": {},
   "source": [
    "## Dijkstra’s Algorithm\n",
    "\n",
    "Weighted graphs, edges that carry **weight**.\n",
    "\n",
    "```mermaid\n",
    "flowchart LR\n",
    "Start--6-->A\n",
    "Start--2-->B\n",
    "A--1-->Finish\n",
    "B--3-->A\n",
    "B--5-->Finish\n",
    "```\n",
    "\n",
    "\n",
    "**Dijkstra’s algorithm**\n",
    "\n",
    "Lets say you have to find path from start to finish, start is connected to nodes, and they to other nodes and so on until finish, each node has travel time.\n",
    "\n",
    "- From all neighbors to start, find the cheapest node. This is the node you can get to in the least amount of time*.\n",
    "- Update the costs of the neighbors of this node.\n",
    "- Repeat until you’ve done this for every node in the graph.\n",
    "- Calculate the final path.\n",
    "\n",
    "You can do this by maintaining a table with three columns and update them in each iteration by traversing all nodes and edges.\n",
    "\n",
    "**Iter 1**\n",
    "\n",
    "Parent | Node | Cost\n",
    "-|-|-\n",
    "Start  | Stop A | 6\n",
    "Start  | Stop B | 2\n",
    "Stop A | Finish | infinity\n",
    "\n",
    "...\n",
    "\n",
    "Keep updating cost and parent, for each node in each iteration and finally you can find the path.\n",
    "\n",
    "**Iter Last**\n",
    "\n",
    "Parent | Node | Cost\n",
    "-|-|-\n",
    "Stop B | Stop A | 5\n",
    "Start  | Stop B | 2\n",
    "Stop A | Finish | 6\n",
    "\n",
    "\n",
    "\n",
    "* _there is no other way to get to the cheapest node other than the direct link to start. Also this is only true when you have positive weights._\n",
    "\n",
    "**Negative-weight edges**\n",
    "\n",
    "The edge can have negative weight value, eg, you give A to B and B returns you money. A -- -2$ ---> B\n",
    "\n",
    "Now the Dijkstra Algo does not work, as \"the only shortest path to cheapest node from start is direct link\" does not stand true. Hence, you **can’t use Dijkstra’s** algorithm if you have **negative-weight** edges.\n",
    "\n",
    "The **Bellman-Ford algorithm** can be used in this case (out of scope for now!).\n",
    "\n",
    "**Implementation of Dijkstra**\n",
    "\n",
    "You need three hash-tables to represent the weighted graph data (and the structure in table above that keeps track to find shortest path)\n",
    "\n",
    "- `graphs` - dict - represents the weighted graph (see graph)\n",
    "- `costs` - dict - keeps track of lowest cost in each run (see table)\n",
    "- `parents` - dict - keeps track of parent having lowest cost in each run (see table)\n",
    "- `processed` - list - keeps track of nodes processed, so we do not repeat\n",
    "\n",
    "```py\n",
    "\n",
    "graph = {\n",
    "    'start' : {         # all neighbours to start\n",
    "        'a': 6,\n",
    "        'b': 2\n",
    "    },\n",
    "    'a' : {             # all neighbours to a\n",
    "        'finish' : 1\n",
    "    },\n",
    "    'b' : {             # all neighbours to b\n",
    "        'a' : 3,\n",
    "        'finish' : 5\n",
    "    },\n",
    "    'finish' : {}       # finish has no neighbours\n",
    "}\n",
    "\n",
    "costs = {               # at Iter 1\n",
    "    'a': 6,\n",
    "    'b': 2,\n",
    "    'final': float(\"inf\")\n",
    "}\n",
    "\n",
    "parents = {             # at Iter 1\n",
    "    'a': \"start\",\n",
    "    'b': \"start\",\n",
    "    'final': None\n",
    "}\n",
    "\n",
    "```\n",
    "\n",
    "Once, you keep executing, you will reach the final iter, which will have costs and parents hash-table having shortest path route.\n",
    "\n"
   ]
  },
  {
   "cell_type": "markdown",
   "metadata": {},
   "source": [
    "\n",
    "Shortest Path\n",
    "\n",
    "```mermaid\n",
    "flowchart LR\n",
    "Start-.6.->A\n",
    "Start==2==>B\n",
    "A==1==>Finish\n",
    "B==3==>A\n",
    "B-.5.->Finish\n",
    "```\n"
   ]
  },
  {
   "cell_type": "markdown",
   "metadata": {},
   "source": [
    "**Code**\n",
    "\n",
    "```py\n",
    "\n",
    "graph = {\n",
    "    'start' : {         # all neighbours to start\n",
    "        'a': 6,\n",
    "        'b': 2\n",
    "    },\n",
    "    'a' : {             # all neighbours to a\n",
    "        'finish' : 1\n",
    "    },\n",
    "    'b' : {             # all neighbours to b\n",
    "        'a' : 3,\n",
    "        'finish' : 5\n",
    "    },\n",
    "    'finish' : {}       # finish has no neighbours\n",
    "}\n",
    "\n",
    "costs = {               # at Iter 1\n",
    "    'a': 6,\n",
    "    'b': 2,\n",
    "    'final': float(\"inf\")\n",
    "}\n",
    "\n",
    "parents = {             # at Iter 1\n",
    "    'a': \"start\",\n",
    "    'b': \"start\",\n",
    "    'final': None\n",
    "}\n",
    "\n",
    "processed = []\n",
    "\n",
    "# Dijkstra's Algo\n",
    "\n",
    "def find_lowest_cost_node(costs):\n",
    "    lowest_cost = float(“inf”)\n",
    "    lowest_cost_node = None\n",
    "    for node in costs:              # Go through each node.\n",
    "        cost = costs[node]\n",
    "        if cost < lowest_cost and node not in processed:    # If it’s the lowest cost so far and hasn’t been processed yet ...\n",
    "        lowest_cost = cost                                  # ... set it as the new lowest-cost node.\n",
    "        lowest_cost_node = node\n",
    "    return lowest_cost_node\n",
    "\n",
    "node = find_lowest_cost_node(costs)     # that you haven’t processed yet.\n",
    "while node is not None:                 # If you’ve processed all the nodes, this while loop is done. \n",
    "    cost = costs[node]\n",
    "    neighbors = graph[node]\n",
    "    for n in neighbors.keys():          # Go through all the neighbors of this node.\n",
    "        new_cost = cost + neighbors[n]  # If it’s cheaper to get to this neighbor\n",
    "        if costs[n] > new_cost:         # by going through this node ...\n",
    "            costs[n] = new_cost         # ... update the cost for this node.\n",
    "            parents[n] = node           # This node becomes the new parent for this neighbor\n",
    "    processed.append(node)              # Mark the node as processed.\n",
    "    node = find_lowest_cost_node(costs)\n",
    "\n",
    "```\n",
    "\n"
   ]
  },
  {
   "cell_type": "markdown",
   "metadata": {},
   "source": [
    "**Summary**\n",
    "\n",
    "- Breadth-first search is used to calculate the shortest path for an unweighted graph.\n",
    "- Dijkstra’s algorithm is used to calculate the shortest path for a weighted graph.\n",
    "- Dijkstra’s algorithm works when all the weights are positive.\n",
    "- If you have negative weights, use the Bellman-Ford algorithm."
   ]
  },
  {
   "cell_type": "markdown",
   "metadata": {},
   "source": [
    "## Greedy Algorithms\n",
    "\n",
    "Some problems do not have fast algo solution. You can identify them and use greedy strategy to find approximate solution. We use Greedy Algorithm\n"
   ]
  },
  {
   "cell_type": "markdown",
   "metadata": {},
   "source": [
    "## Dynamic Programming\n",
    "\n",
    "When there is a hard solution to a problem, we break down problem into small tasks and solve them, this is dynamic programming.\n"
   ]
  },
  {
   "cell_type": "markdown",
   "metadata": {},
   "source": [
    "## Links\n",
    "\n",
    "- [Python Data Structures and Algorithms](https://www.linkedin.com/learning/python-data-structures-and-algorithms)\n",
    "- [Python Data Structures: Power of Linked Lists for Technical Interviews](linkedin.com/learning/python-data-structures-power-of-linked-lists-for-technical-interviews/)\n",
    "- [Grokking Algorithms: An Illustrated Guide for Programmers and Other Curious People - Book by Aditya Y. Bhargava](https://edu.anarcho-copy.org/Algorithm/grokking-algorithms-illustrated-programmers-curious.pdf)\n"
   ]
  },
  {
   "cell_type": "markdown",
   "metadata": {},
   "source": [
    "\n",
    "\n",
    "## University of California, Berkeley\n",
    "\n",
    "- **UC Berkeley** (UCB) is \"University of California\" located in Berkeley, California, USA. It has CS lectures that have open syllabus, course material with lecture slides/videos, assignments, available for free online in an organized manner.\n",
    "  - Courses have a page and professor. Either videos are on course page, or go to prof youtube channel to find lectures.\n",
    "\n",
    "- **EECS UCB** is [Electrical Engineering and Computer Science](https://www2.eecs.berkeley.edu/) department.\n",
    "- [EECS Courses](https://www2.eecs.berkeley.edu/Courses/CS/) cover all CS fundamental and advance courses. Each course has a page where you can see **prerequisites** which will be another course.\n",
    "  - CS61A/B/C (alternatives CS47ABC)\n",
    "    - 61A: Teaches you how to think like a programmer\n",
    "    - 61B: The go-to class that turns a lot of people into great programmers/interested in software.\n",
    "    - 61C: Everything left in CS that isn't taught in 61A/B: Low-level things. Clocks, CPUs, Assembly, C, etc.\n",
    "    - skip/skim 61A all together and just watch/do 61B, then 61C stuff\n",
    "    - Those who have taken these courses claim that after completing this series they feel like they can achieve or learn almost anything if they wanted because they are already well versed on the lingo and tools of CS that is programming, problem solving and low level stuff.\n",
    "    - DA DSA\n",
    "    - [CS 61A: Structure and Interpretation of Computer Programs](https://cs61a.org/)\n",
    "      - Prof [JohnDeNero](https://denero.org/)\n",
    "        - mostly teaches in Python\n",
    "        - [youTube](https://www.youtube.com/@JohnDeNero) channel has all lecture assignment videos.\n",
    "          - go to playlist to see all lectures\n",
    "    - DataStructur.es\n",
    "      - info about all CS61 courses\n",
    "      - [Resources](https://sp23.datastructur.es/resources.html) Algo Visual\n",
    "  - C9A/B/C/D/E/F/G/H\n",
    "    - Basic programming courses\n",
    "    - CS 9C. C for Programmers\n",
    "    - CS 9D. Scheme and Functional Programming for Programmers\n",
    "    - CS 9E. Productive Use of the UNIX Environment\n",
    "  - [CS 186. Introduction to Database Systems](https://www2.eecs.berkeley.edu/Courses/CS186)\n",
    "    - <https://cs186berkeley.net/>\n",
    "  - CS 261. Security in Computer Systems\n",
    "  - [CS 162: Operating Systems and System Programming](https://cs162.org/)\n",
    "\n",
    "\n",
    "- [Programming Systems (PS)](https://www2.eecs.berkeley.edu/Research/Areas/PS/) - Area in UCB where many discoveries were done. It includes following courses\n",
    "  - CS 61A. The Structure and Interpretation of Computer Programs\n",
    "  - CS 61B. Data Structures\n",
    "  - CS 164. Programming Languages and Compilers\n",
    "  - CS 169. Software Engineering\n",
    "  - CS 263. Design of Programming Languages\n",
    "  - CS 264. Implementation of Programming Languages\n",
    "  - CS 265. Compiler Optimization and Code Generation\n",
    "  - CS C267. Applications of Parallel Computers\n",
    "\n",
    "- **Seasons** of the United States\n",
    "  - Spring - March to May. Q2\n",
    "  - Summer - June to August. Q3\n",
    "  - Fall/Autumn - September to November. Q4\n",
    "  - Winter - December to February. Q1\n",
    "\n",
    "- **Books** Recommended\n",
    "  - [A Philosophy of Software Design](https://www.amazon.co.uk/Philosophy-Software-Design-John-Ousterhout/dp/1732102201) by John Ousterhout - recommended by student on reddit\n",
    "\n",
    "- **Links**\n",
    "  - [Ask HN: CS61 series from Berkeley, the best set of foundational CS courses?](https://news.ycombinator.com/item?id=34965653)\n",
    "\n",
    "\n",
    "### CS 61A: Structure and Interpretation of Computer Programs\n",
    "\n",
    "_prof John DeNero_\n",
    "\n",
    "CS61A - Fall 2023 - 37 Lectures have playlist on Youtube. Text on [site](https://cs61a.org/).\n",
    "\n",
    "### CS 61B Data Structures, Fall 2023\n",
    "\n",
    "- [Prof Josh Hug\n",
    "](https://www.youtube.com/@joshhug1212/playlists) has lecture playlist. Other playlists can be found on [course page](https://fa23.datastructur.es/)\n",
    "\n",
    "### Explore Study Material\n",
    "\n",
    "UCB has best and open material based on reddit and your search.\n",
    "\n",
    "It will take 2-3 months to complete all lectures. So be patient and just do it without 2nd thought of result. It will benefit you.\n",
    "\n",
    "### Links\n",
    "\n",
    "- [DSA Guide - Quora](https://www.quora.com/How-do-I-start-learning-or-strengthen-my-knowledge-of-data-structures-and-algorithms/answer/Robin-Thomas-16)\n",
    "- DSA <https://www.udacity.com/course/data-structures-and-algorithms-nanodegree--nd256>\n",
    "- DSA Python <https://www.udemy.com/course/data-structures-and-algorithms-bootcamp-in-python/>\n",
    "- Coding FAANG <https://www.udemy.com/course/master-the-coding-interview-big-tech-faang-interviews/>\n"
   ]
  }
 ],
 "metadata": {
  "kernelspec": {
   "display_name": "Python 3 (ipykernel)",
   "language": "python",
   "name": "python3"
  }
 },
 "nbformat": 4,
 "nbformat_minor": 2
}
