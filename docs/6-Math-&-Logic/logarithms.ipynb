{
 "cells": [
  {
   "cell_type": "markdown",
   "metadata": {},
   "source": [
    "# Logarithms\n",
    "\n",
    "Log is opposite of \"power of\" something. Power of is called exponential, hence log is opposite of exponential.\n",
    "\n",
    "$$ 10^3 = 1000 => \\log_{10} 1000 = 3$$\n",
    "$$ 2^3 = 8 => \\log_2 8 = 3$$"
   ]
  },
  {
   "cell_type": "markdown",
   "metadata": {},
   "source": [
    "Read as:\n",
    "\n",
    "- log of 1000 to the base 10 is equal to 3,\n",
    "- log 1000 base 10 is 3,\n",
    "- log is choppped tree, so, if base is 10, you need 3 power to get 1000\n",
    "- log 8 base 2 is 3; if base is 2, you need 3 power to get 8\n",
    "- how many power do you need?\n",
    "- if base is $b$, how many power you need to get $a$, that is, $x$?\n",
    "- $\\log_b a = x$\n",
    "- $\\log_{base} {number} = {power}$"
   ]
  },
  {
   "cell_type": "code",
   "execution_count": null,
   "metadata": {},
   "outputs": [],
   "source": []
  },
  {
   "cell_type": "code",
   "execution_count": null,
   "metadata": {},
   "outputs": [],
   "source": []
  }
 ],
 "metadata": {
  "language_info": {
   "name": "python"
  }
 },
 "nbformat": 4,
 "nbformat_minor": 2
}
